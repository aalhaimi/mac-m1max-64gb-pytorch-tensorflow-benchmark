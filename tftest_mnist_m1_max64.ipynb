{
 "cells": [
  {
   "cell_type": "code",
   "execution_count": 1,
   "id": "14c93660",
   "metadata": {},
   "outputs": [
    {
     "name": "stdout",
     "output_type": "stream",
     "text": [
      "TensorFlow version: 2.6.0\n",
      "Num GPUs Available:  1\n"
     ]
    },
    {
     "data": {
      "text/plain": [
       "[PhysicalDevice(name='/physical_device:GPU:0', device_type='GPU')]"
      ]
     },
     "execution_count": 1,
     "metadata": {},
     "output_type": "execute_result"
    }
   ],
   "source": [
    "import tensorflow as tf\n",
    "from tensorflow.keras import Model\n",
    "from tensorflow.keras.layers import Dense, Flatten, Conv2D, MaxPool2D\n",
    "\n",
    "print(\"TensorFlow version:\", tf.__version__)\n",
    "print(\"Num GPUs Available: \", len(tf.config.experimental.list_physical_devices('GPU')))\n",
    "tf.config.list_physical_devices('GPU')"
   ]
  },
  {
   "cell_type": "code",
   "execution_count": 2,
   "id": "c2d94922",
   "metadata": {},
   "outputs": [
    {
     "name": "stdout",
     "output_type": "stream",
     "text": [
      "Metal device set to: Apple M1 Max\n"
     ]
    },
    {
     "name": "stderr",
     "output_type": "stream",
     "text": [
      "2021-10-28 08:27:52.084084: I tensorflow/core/common_runtime/pluggable_device/pluggable_device_factory.cc:305] Could not identify NUMA node of platform GPU ID 0, defaulting to 0. Your kernel may not have been built with NUMA support.\n",
      "2021-10-28 08:27:52.084201: I tensorflow/core/common_runtime/pluggable_device/pluggable_device_factory.cc:271] Created TensorFlow device (/job:localhost/replica:0/task:0/device:GPU:0 with 0 MB memory) -> physical PluggableDevice (device: 0, name: METAL, pci bus id: <undefined>)\n"
     ]
    }
   ],
   "source": [
    "epochs = 12\n",
    "\n",
    "mnist = tf.keras.datasets.mnist\n",
    "\n",
    "(x_train, y_train), (x_test, y_test) = mnist.load_data()\n",
    "x_train, x_test = x_train / 255.0, x_test / 255.0\n",
    "\n",
    "# Add a channels dimension\n",
    "x_train = x_train[..., tf.newaxis].astype(\"float32\")\n",
    "x_test = x_test[..., tf.newaxis].astype(\"float32\")\n",
    "\n",
    "\n",
    "class BasicCNN(Model):\n",
    "    def __init__(self):\n",
    "        super(BasicCNN, self).__init__()\n",
    "        self.conv1 = Conv2D(32, 3, activation='relu')\n",
    "        self.conv2 = Conv2D(64, 3, activation='relu')\n",
    "        self.maxp1 = MaxPool2D(pool_size=(2, 2))\n",
    "        self.flatten = Flatten()\n",
    "        self.d1 = Dense(128, activation='relu')\n",
    "        self.d2 = Dense(10)\n",
    "\n",
    "    def call(self, x):\n",
    "        x = self.conv1(x)\n",
    "        x = self.conv2(x)\n",
    "        x = self.maxp1(x)\n",
    "        x = self.flatten(x)\n",
    "        x = self.d1(x)\n",
    "        return self.d2(x)\n",
    "\n",
    "\n",
    "model = BasicCNN()\n",
    "\n",
    "loss_fn = tf.keras.losses.SparseCategoricalCrossentropy(from_logits=True)\n",
    "optimizer = tf.keras.optimizers.Adam()\n",
    "\n",
    "test_loss = tf.keras.metrics.Mean(name='test_loss')\n",
    "test_accuracy = tf.keras.metrics.SparseCategoricalAccuracy(name='test_accuracy')\n",
    "\n",
    "\n",
    "# Use tf.GradientTape to train the model:\n",
    "@tf.function\n",
    "def train(images, labels):\n",
    "    with tf.GradientTape() as tape:\n",
    "        # training=True is only needed if there are layers with different\n",
    "        # behavior during training versus inference (e.g. Dropout).\n",
    "        predictions = model(images, training=True)\n",
    "        loss = loss_fn(labels, predictions)\n",
    "    gradients = tape.gradient(loss, model.trainable_variables)\n",
    "    optimizer.apply_gradients(zip(gradients, model.trainable_variables))\n",
    "    \n",
    "    \n",
    "@tf.function\n",
    "def test(images, labels):\n",
    "    # training=False is only needed if there are layers with different\n",
    "    # behavior during training versus inference (e.g. Dropout).\n",
    "    predictions = model(images, training=False)\n",
    "    t_loss = loss_fn(labels, predictions)\n",
    "    test_loss(t_loss)\n",
    "    test_accuracy(labels, predictions)\n",
    "    "
   ]
  },
  {
   "cell_type": "code",
   "execution_count": 3,
   "id": "23fffd93",
   "metadata": {},
   "outputs": [],
   "source": [
    "##### SMALLER BATCH SIZE ######\n",
    "\n",
    "batch_size = 32\n",
    "\n",
    "train_ds = tf.data.Dataset.from_tensor_slices(\n",
    "    (x_train, y_train)).shuffle(10000).batch(batch_size)\n",
    "\n",
    "test_ds = tf.data.Dataset.from_tensor_slices((x_test, y_test)).batch(batch_size)"
   ]
  },
  {
   "cell_type": "code",
   "execution_count": 4,
   "id": "92919662",
   "metadata": {},
   "outputs": [
    {
     "name": "stderr",
     "output_type": "stream",
     "text": [
      "2021-10-28 08:27:52.340008: I tensorflow/compiler/mlir/mlir_graph_optimization_pass.cc:185] None of the MLIR Optimization Passes are enabled (registered 2)\n",
      "2021-10-28 08:27:52.340653: W tensorflow/core/platform/profile_utils/cpu_utils.cc:128] Failed to get CPU frequency: 0 Hz\n",
      "2021-10-28 08:27:52.340699: I tensorflow/core/grappler/optimizers/custom_graph_optimizer_registry.cc:112] Plugin optimizer for device_type GPU is enabled.\n",
      "2021-10-28 08:27:58.743700: I tensorflow/core/grappler/optimizers/custom_graph_optimizer_registry.cc:112] Plugin optimizer for device_type GPU is enabled.\n",
      "2021-10-28 08:28:00.254984: I tensorflow/core/grappler/optimizers/custom_graph_optimizer_registry.cc:112] Plugin optimizer for device_type GPU is enabled.\n"
     ]
    },
    {
     "name": "stdout",
     "output_type": "stream",
     "text": [
      "Epoch 1\n",
      "------------------------------- \n",
      "Test loss: 0.04670846089720726, Test acc: 98.57% \n",
      "\n",
      "Epoch 2\n",
      "------------------------------- \n",
      "Test loss: 0.036258287727832794, Test acc: 98.79% \n",
      "\n",
      "Epoch 3\n",
      "------------------------------- \n",
      "Test loss: 0.03798925131559372, Test acc: 98.86% \n",
      "\n",
      "Epoch 4\n",
      "------------------------------- \n",
      "Test loss: 0.03681561350822449, Test acc: 98.82% \n",
      "\n",
      "Epoch 5\n",
      "------------------------------- \n",
      "Test loss: 0.038603901863098145, Test acc: 98.97% \n",
      "\n",
      "Epoch 6\n",
      "------------------------------- \n",
      "Test loss: 0.03827790543437004, Test acc: 99.06% \n",
      "\n",
      "Epoch 7\n",
      "------------------------------- \n",
      "Test loss: 0.03957931697368622, Test acc: 99.05% \n",
      "\n",
      "Epoch 8\n",
      "------------------------------- \n",
      "Test loss: 0.04967956244945526, Test acc: 99.03% \n",
      "\n",
      "Epoch 9\n",
      "------------------------------- \n",
      "Test loss: 0.04598122835159302, Test acc: 99.09% \n",
      "\n",
      "Epoch 10\n",
      "------------------------------- \n",
      "Test loss: 0.06989841908216476, Test acc: 98.75% \n",
      "\n",
      "Epoch 11\n",
      "------------------------------- \n",
      "Test loss: 0.060616690665483475, Test acc: 99.06% \n",
      "\n",
      "Epoch 12\n",
      "------------------------------- \n",
      "Test loss: 0.05274122208356857, Test acc: 98.99% \n",
      "\n",
      "CPU times: user 1min 6s, sys: 49 s, total: 1min 55s\n",
      "Wall time: 1min 35s\n"
     ]
    }
   ],
   "source": [
    "%%time\n",
    "\n",
    "for epoch in range(epochs):\n",
    "    test_loss.reset_states()\n",
    "    test_accuracy.reset_states()\n",
    "\n",
    "    for images, labels in train_ds:\n",
    "        train(images, labels)\n",
    "\n",
    "    for test_images, test_labels in test_ds:\n",
    "        test(test_images, test_labels)\n",
    "\n",
    "    print(\n",
    "    f'Epoch {epoch+1}\\n------------------------------- \\n'\n",
    "    f'Test loss: {test_loss.result()}, Test acc: {test_accuracy.result()*100:.2f}% \\n'\n",
    "  )"
   ]
  },
  {
   "cell_type": "code",
   "execution_count": 5,
   "id": "26fb6d2a",
   "metadata": {},
   "outputs": [],
   "source": [
    "##### BIGGER BATCH SIZE ######\n",
    "#### simulating larger images with higher memory reqs\n",
    "\n",
    "batch_size = 4096\n",
    "\n",
    "train_ds = tf.data.Dataset.from_tensor_slices(\n",
    "    (x_train, y_train)).shuffle(10000).batch(batch_size)\n",
    "\n",
    "test_ds = tf.data.Dataset.from_tensor_slices((x_test, y_test)).batch(batch_size)"
   ]
  },
  {
   "cell_type": "code",
   "execution_count": 6,
   "id": "859a5599",
   "metadata": {},
   "outputs": [
    {
     "name": "stderr",
     "output_type": "stream",
     "text": [
      "2021-10-28 08:29:27.573373: I tensorflow/core/grappler/optimizers/custom_graph_optimizer_registry.cc:112] Plugin optimizer for device_type GPU is enabled.\n",
      "2021-10-28 08:29:29.091203: I tensorflow/core/grappler/optimizers/custom_graph_optimizer_registry.cc:112] Plugin optimizer for device_type GPU is enabled.\n",
      "2021-10-28 08:29:29.215053: I tensorflow/core/grappler/optimizers/custom_graph_optimizer_registry.cc:112] Plugin optimizer for device_type GPU is enabled.\n",
      "2021-10-28 08:29:29.415218: I tensorflow/core/grappler/optimizers/custom_graph_optimizer_registry.cc:112] Plugin optimizer for device_type GPU is enabled.\n"
     ]
    },
    {
     "name": "stdout",
     "output_type": "stream",
     "text": [
      "Epoch 1\n",
      "------------------------------- \n",
      "Test loss: 0.0502527579665184, Test acc: 99.02% \n",
      "\n",
      "Epoch 2\n",
      "------------------------------- \n",
      "Test loss: 0.04913012310862541, Test acc: 99.07% \n",
      "\n",
      "Epoch 3\n",
      "------------------------------- \n",
      "Test loss: 0.0485159307718277, Test acc: 99.05% \n",
      "\n",
      "Epoch 4\n",
      "------------------------------- \n",
      "Test loss: 0.048133011907339096, Test acc: 99.05% \n",
      "\n",
      "Epoch 5\n",
      "------------------------------- \n",
      "Test loss: 0.047891538590192795, Test acc: 99.05% \n",
      "\n",
      "Epoch 6\n",
      "------------------------------- \n",
      "Test loss: 0.047745075076818466, Test acc: 99.05% \n",
      "\n",
      "Epoch 7\n",
      "------------------------------- \n",
      "Test loss: 0.047654639929533005, Test acc: 99.05% \n",
      "\n",
      "Epoch 8\n",
      "------------------------------- \n",
      "Test loss: 0.04757767543196678, Test acc: 99.05% \n",
      "\n",
      "Epoch 9\n",
      "------------------------------- \n",
      "Test loss: 0.04752976819872856, Test acc: 99.06% \n",
      "\n",
      "Epoch 10\n",
      "------------------------------- \n",
      "Test loss: 0.0475139245390892, Test acc: 99.07% \n",
      "\n",
      "Epoch 11\n",
      "------------------------------- \n",
      "Test loss: 0.047478847205638885, Test acc: 99.12% \n",
      "\n",
      "Epoch 12\n",
      "------------------------------- \n",
      "Test loss: 0.04743150621652603, Test acc: 99.12% \n",
      "\n",
      "CPU times: user 4.38 s, sys: 7.78 s, total: 12.2 s\n",
      "Wall time: 22.1 s\n"
     ]
    }
   ],
   "source": [
    "%%time\n",
    "\n",
    "for epoch in range(epochs):\n",
    "    test_loss.reset_states()\n",
    "    test_accuracy.reset_states()\n",
    "\n",
    "    for images, labels in train_ds:\n",
    "        train(images, labels)\n",
    "\n",
    "    for test_images, test_labels in test_ds:\n",
    "        test(test_images, test_labels)\n",
    "\n",
    "    print(\n",
    "    f'Epoch {epoch+1}\\n------------------------------- \\n'\n",
    "    f'Test loss: {test_loss.result()}, Test acc: {test_accuracy.result()*100:.2f}% \\n'\n",
    "  )"
   ]
  }
 ],
 "metadata": {
  "kernelspec": {
   "display_name": "Python 3 (ipykernel)",
   "language": "python",
   "name": "python3"
  },
  "language_info": {
   "codemirror_mode": {
    "name": "ipython",
    "version": 3
   },
   "file_extension": ".py",
   "mimetype": "text/x-python",
   "name": "python",
   "nbconvert_exporter": "python",
   "pygments_lexer": "ipython3",
   "version": "3.8.12"
  }
 },
 "nbformat": 4,
 "nbformat_minor": 5
}
